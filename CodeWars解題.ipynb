{
 "cells": [
  {
   "cell_type": "code",
   "execution_count": 39,
   "metadata": {
    "collapsed": false
   },
   "outputs": [],
   "source": [
    "def validate_pin(pin):\n",
    "    return len(str(pin)) in (4, 6) and str(pin).isdigit()"
   ]
  },
  {
   "cell_type": "code",
   "execution_count": 40,
   "metadata": {
    "collapsed": false
   },
   "outputs": [
    {
     "data": {
      "text/plain": [
       "False"
      ]
     },
     "execution_count": 40,
     "metadata": {},
     "output_type": "execute_result"
    }
   ],
   "source": [
    "validate_pin(\"a21433\")"
   ]
  },
  {
   "cell_type": "code",
   "execution_count": 62,
   "metadata": {
    "collapsed": false
   },
   "outputs": [],
   "source": [
    "import numpy as np\n",
    "def tickets(money):\n",
    "    for i in money:\n",
    "        print(i)\n",
    "        a = sum(money) - money[len(money)-1]\n",
    "        print(a)\n",
    "        print(len(money)-1)"
   ]
  },
  {
   "cell_type": "code",
   "execution_count": 63,
   "metadata": {
    "collapsed": false
   },
   "outputs": [
    {
     "name": "stdout",
     "output_type": "stream",
     "text": [
      "25\n",
      "50\n",
      "2\n",
      "25\n",
      "50\n",
      "2\n",
      "50\n",
      "50\n",
      "2\n"
     ]
    }
   ],
   "source": [
    "tickets([25, 25, 50])"
   ]
  },
  {
   "cell_type": "code",
   "execution_count": 64,
   "metadata": {
    "collapsed": true
   },
   "outputs": [],
   "source": [
    "def tickets(money):\n",
    "    for i in money:\n",
    "        a = sum(money) - money[len(money)-1]\n",
    "        if a == money[len(money)-1]:\n",
    "            return(\"Yes\")\n",
    "        else:\n",
    "            return(\"No\")"
   ]
  },
  {
   "cell_type": "code",
   "execution_count": 65,
   "metadata": {
    "collapsed": false
   },
   "outputs": [
    {
     "data": {
      "text/plain": [
       "'Yes'"
      ]
     },
     "execution_count": 65,
     "metadata": {},
     "output_type": "execute_result"
    }
   ],
   "source": [
    "tickets([25, 25, 50])"
   ]
  },
  {
   "cell_type": "code",
   "execution_count": 75,
   "metadata": {
    "collapsed": false
   },
   "outputs": [],
   "source": [
    "def sum_two_smallest_numbers(numbers):\n",
    "    min1 = min(i for i in numbers)\n",
    "    min2 = min(i for i in numbers if i > min1)\n",
    "    return(min1+min2)\n",
    "    #your code here"
   ]
  },
  {
   "cell_type": "code",
   "execution_count": 76,
   "metadata": {
    "collapsed": false
   },
   "outputs": [
    {
     "data": {
      "text/plain": [
       "13"
      ]
     },
     "execution_count": 76,
     "metadata": {},
     "output_type": "execute_result"
    }
   ],
   "source": [
    "sum_two_smallest_numbers([5, 8, 12, 18, 22])"
   ]
  },
  {
   "cell_type": "code",
   "execution_count": null,
   "metadata": {
    "collapsed": true
   },
   "outputs": [],
   "source": [
    "'''\n",
    "其他人的方法\n",
    "def sum_two_smallest_numbers(numbers):\n",
    "    return sum(sorted(numbers)[:2])\n",
    "def sum_two_smallest_numbers(num_list):\n",
    "    num_list.sort()\n",
    "    return num_list[0] + num_list[1]\n",
    "'''"
   ]
  },
  {
   "cell_type": "code",
   "execution_count": null,
   "metadata": {
    "collapsed": true
   },
   "outputs": [],
   "source": [
    "def narcissistic( value ):\n",
    "    result = 0\n",
    "    for digit in str(value):\n",
    "        result += int(digit) ** 3\n",
    "    if result == number:\n",
    "        print(number)"
   ]
  },
  {
   "cell_type": "code",
   "execution_count": 95,
   "metadata": {
    "collapsed": false
   },
   "outputs": [],
   "source": [
    "def find_nb(m):\n",
    "    n = 1\n",
    "    l = n**3\n",
    "    m = m-l\n",
    "    while m > 0:\n",
    "        n +=1\n",
    "        l = n**3\n",
    "        m = m-l\n",
    "        if m == 0:\n",
    "            return(n)\n",
    "            break\n",
    "        if m < 0:\n",
    "            return(-1)\n",
    "            break"
   ]
  },
  {
   "cell_type": "code",
   "execution_count": 96,
   "metadata": {
    "collapsed": false
   },
   "outputs": [
    {
     "data": {
      "text/plain": [
       "45"
      ]
     },
     "execution_count": 96,
     "metadata": {},
     "output_type": "execute_result"
    }
   ],
   "source": [
    "find_nb(1071225)"
   ]
  },
  {
   "cell_type": "code",
   "execution_count": null,
   "metadata": {
    "collapsed": true
   },
   "outputs": [],
   "source": [
    "'''\n",
    "def find_nb(m):\n",
    "    n = 1\n",
    "    volume = 0\n",
    "    while volume < m:\n",
    "        volume += n**3\n",
    "        if volume == m:\n",
    "            return n\n",
    "        n += 1\n",
    "    return -1\n",
    "\n",
    "def find_nb(m):\n",
    "  total, i = 1, 2\n",
    "  while total < m:\n",
    "    total += i * i * i\n",
    "    i += 1\n",
    "  return i - 1 if total == m else -1\n",
    "'''"
   ]
  },
  {
   "cell_type": "code",
   "execution_count": 98,
   "metadata": {
    "collapsed": false
   },
   "outputs": [
    {
     "name": "stdout",
     "output_type": "stream",
     "text": [
      "9\n",
      "36\n",
      "288\n",
      "2016\n"
     ]
    }
   ],
   "source": [
    "year = 1\n",
    "l = [9,4,8,7]\n",
    "for i in l:\n",
    "    year = year*i\n",
    "    print(year)"
   ]
  },
  {
   "cell_type": "code",
   "execution_count": 99,
   "metadata": {
    "collapsed": false
   },
   "outputs": [
    {
     "data": {
      "text/plain": [
       "True"
      ]
     },
     "execution_count": 99,
     "metadata": {},
     "output_type": "execute_result"
    }
   ],
   "source": [
    "\"Z\">\"B\""
   ]
  },
  {
   "cell_type": "code",
   "execution_count": 112,
   "metadata": {
    "collapsed": true
   },
   "outputs": [],
   "source": [
    "def binary_array_to_number(arr):\n",
    "    A = ''.join(map(str,arr))\n",
    "    return(int(A,2))"
   ]
  },
  {
   "cell_type": "code",
   "execution_count": 113,
   "metadata": {
    "collapsed": false
   },
   "outputs": [
    {
     "data": {
      "text/plain": [
       "2"
      ]
     },
     "execution_count": 113,
     "metadata": {},
     "output_type": "execute_result"
    }
   ],
   "source": [
    "binary_array_to_number([0,0,1,0])"
   ]
  },
  {
   "cell_type": "code",
   "execution_count": 114,
   "metadata": {
    "collapsed": true
   },
   "outputs": [],
   "source": [
    "A = \"WUBWEWUBAREWUBWUBTHEWUBCHAMPIONSWUBMYWUBFRIENDWUB\""
   ]
  },
  {
   "cell_type": "code",
   "execution_count": 115,
   "metadata": {
    "collapsed": true
   },
   "outputs": [],
   "source": [
    "A = A.replace(\"WUB\", \" \")"
   ]
  },
  {
   "cell_type": "code",
   "execution_count": 116,
   "metadata": {
    "collapsed": false
   },
   "outputs": [
    {
     "data": {
      "text/plain": [
       "' WE ARE  THE CHAMPIONS MY FRIEND '"
      ]
     },
     "execution_count": 116,
     "metadata": {},
     "output_type": "execute_result"
    }
   ],
   "source": [
    "A"
   ]
  },
  {
   "cell_type": "code",
   "execution_count": 119,
   "metadata": {
    "collapsed": true
   },
   "outputs": [],
   "source": [
    "def song_decoder(song):\n",
    "    A = song.replace(\"WUB\", \" \").strip()\n",
    "    B = \" \".join(A.split())\n",
    "    return B"
   ]
  },
  {
   "cell_type": "code",
   "execution_count": 120,
   "metadata": {
    "collapsed": false
   },
   "outputs": [
    {
     "data": {
      "text/plain": [
       "'WE ARE THE CHAMPIONS MY FRIEND'"
      ]
     },
     "execution_count": 120,
     "metadata": {},
     "output_type": "execute_result"
    }
   ],
   "source": [
    "song_decoder(\"WUBWEWUBAREWUBWUBTHEWUBCHAMPIONSWUBMYWUBFRIENDWUB\")"
   ]
  },
  {
   "cell_type": "code",
   "execution_count": null,
   "metadata": {
    "collapsed": true
   },
   "outputs": [],
   "source": []
  }
 ],
 "metadata": {
  "kernelspec": {
   "display_name": "Python 3",
   "language": "python",
   "name": "python3"
  },
  "language_info": {
   "codemirror_mode": {
    "name": "ipython",
    "version": 3
   },
   "file_extension": ".py",
   "mimetype": "text/x-python",
   "name": "python",
   "nbconvert_exporter": "python",
   "pygments_lexer": "ipython3",
   "version": "3.6.0"
  }
 },
 "nbformat": 4,
 "nbformat_minor": 2
}
